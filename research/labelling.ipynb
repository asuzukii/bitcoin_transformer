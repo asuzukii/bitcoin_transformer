{
 "cells": [
  {
   "cell_type": "code",
   "execution_count": 81,
   "id": "2cf56a59-1f7d-43e4-a6a4-4e11bc52f9cf",
   "metadata": {
    "execution": {
     "iopub.execute_input": "2023-08-04T05:51:30.943132Z",
     "iopub.status.busy": "2023-08-04T05:51:30.943132Z",
     "iopub.status.idle": "2023-08-04T05:51:30.965267Z",
     "shell.execute_reply": "2023-08-04T05:51:30.964956Z",
     "shell.execute_reply.started": "2023-08-04T05:51:30.943132Z"
    }
   },
   "outputs": [],
   "source": [
    "import pandas as pd\n",
    "import numpy as np\n",
    "import pandas_ta as ta\n",
    "import matplotlib.pyplot as plt\n",
    "import seaborn as sns\n",
    "import datetime as dt\n",
    "from datetime import datetime\n",
    "from scipy.stats import linregress\n",
    "from pandas_datareader import data as pdr\n",
    "import yfinance as yf\n",
    "import multiprocessing as mp\n",
    "import time \n",
    "from tqdm import tqdm"
   ]
  },
  {
   "cell_type": "code",
   "execution_count": 82,
   "id": "3b1a7ae5-8625-4db0-b25c-6e769fab7d58",
   "metadata": {
    "execution": {
     "iopub.execute_input": "2023-08-04T05:51:31.092647Z",
     "iopub.status.busy": "2023-08-04T05:51:31.092647Z",
     "iopub.status.idle": "2023-08-04T05:51:31.095600Z",
     "shell.execute_reply": "2023-08-04T05:51:31.095106Z",
     "shell.execute_reply.started": "2023-08-04T05:51:31.092647Z"
    }
   },
   "outputs": [],
   "source": [
    "yf.pdr_override()"
   ]
  },
  {
   "cell_type": "code",
   "execution_count": 141,
   "id": "ee1b4bc7-0387-4df6-8363-e0b61b31629b",
   "metadata": {
    "execution": {
     "iopub.execute_input": "2023-08-04T06:13:32.912597Z",
     "iopub.status.busy": "2023-08-04T06:13:32.912597Z",
     "iopub.status.idle": "2023-08-04T06:13:35.475790Z",
     "shell.execute_reply": "2023-08-04T06:13:35.475272Z",
     "shell.execute_reply.started": "2023-08-04T06:13:32.912597Z"
    }
   },
   "outputs": [
    {
     "name": "stdout",
     "output_type": "stream",
     "text": [
      "Index(['Timestamp', 'Open', 'High', 'Low', 'Close', 'Volume_(BTC)',\n",
      "       'Volume_(Currency)', 'Weighted_Price'],\n",
      "      dtype='object')\n"
     ]
    },
    {
     "data": {
      "text/html": [
       "<div>\n",
       "<style scoped>\n",
       "    .dataframe tbody tr th:only-of-type {\n",
       "        vertical-align: middle;\n",
       "    }\n",
       "\n",
       "    .dataframe tbody tr th {\n",
       "        vertical-align: top;\n",
       "    }\n",
       "\n",
       "    .dataframe thead th {\n",
       "        text-align: right;\n",
       "    }\n",
       "</style>\n",
       "<table border=\"1\" class=\"dataframe\">\n",
       "  <thead>\n",
       "    <tr style=\"text-align: right;\">\n",
       "      <th></th>\n",
       "      <th>Timestamp</th>\n",
       "      <th>Open</th>\n",
       "      <th>High</th>\n",
       "      <th>Low</th>\n",
       "      <th>Close</th>\n",
       "      <th>Volume_(BTC)</th>\n",
       "      <th>Volume_(Currency)</th>\n",
       "      <th>Weighted_Price</th>\n",
       "    </tr>\n",
       "  </thead>\n",
       "  <tbody>\n",
       "    <tr>\n",
       "      <th>0</th>\n",
       "      <td>1325317920</td>\n",
       "      <td>4.39</td>\n",
       "      <td>4.39</td>\n",
       "      <td>4.39</td>\n",
       "      <td>4.39</td>\n",
       "      <td>0.455581</td>\n",
       "      <td>2.0</td>\n",
       "      <td>4.39</td>\n",
       "    </tr>\n",
       "    <tr>\n",
       "      <th>1</th>\n",
       "      <td>1325317980</td>\n",
       "      <td>NaN</td>\n",
       "      <td>NaN</td>\n",
       "      <td>NaN</td>\n",
       "      <td>NaN</td>\n",
       "      <td>NaN</td>\n",
       "      <td>NaN</td>\n",
       "      <td>NaN</td>\n",
       "    </tr>\n",
       "    <tr>\n",
       "      <th>2</th>\n",
       "      <td>1325318040</td>\n",
       "      <td>NaN</td>\n",
       "      <td>NaN</td>\n",
       "      <td>NaN</td>\n",
       "      <td>NaN</td>\n",
       "      <td>NaN</td>\n",
       "      <td>NaN</td>\n",
       "      <td>NaN</td>\n",
       "    </tr>\n",
       "    <tr>\n",
       "      <th>3</th>\n",
       "      <td>1325318100</td>\n",
       "      <td>NaN</td>\n",
       "      <td>NaN</td>\n",
       "      <td>NaN</td>\n",
       "      <td>NaN</td>\n",
       "      <td>NaN</td>\n",
       "      <td>NaN</td>\n",
       "      <td>NaN</td>\n",
       "    </tr>\n",
       "    <tr>\n",
       "      <th>4</th>\n",
       "      <td>1325318160</td>\n",
       "      <td>NaN</td>\n",
       "      <td>NaN</td>\n",
       "      <td>NaN</td>\n",
       "      <td>NaN</td>\n",
       "      <td>NaN</td>\n",
       "      <td>NaN</td>\n",
       "      <td>NaN</td>\n",
       "    </tr>\n",
       "  </tbody>\n",
       "</table>\n",
       "</div>"
      ],
      "text/plain": [
       "    Timestamp  Open  High   Low  Close  Volume_(BTC)  Volume_(Currency)  \\\n",
       "0  1325317920  4.39  4.39  4.39   4.39      0.455581                2.0   \n",
       "1  1325317980   NaN   NaN   NaN    NaN           NaN                NaN   \n",
       "2  1325318040   NaN   NaN   NaN    NaN           NaN                NaN   \n",
       "3  1325318100   NaN   NaN   NaN    NaN           NaN                NaN   \n",
       "4  1325318160   NaN   NaN   NaN    NaN           NaN                NaN   \n",
       "\n",
       "   Weighted_Price  \n",
       "0            4.39  \n",
       "1             NaN  \n",
       "2             NaN  \n",
       "3             NaN  \n",
       "4             NaN  "
      ]
     },
     "execution_count": 141,
     "metadata": {},
     "output_type": "execute_result"
    }
   ],
   "source": [
    "df = pd.read_csv(\"./bitstampUSD_1-min_data_2012-01-01_to_2021-03-31.csv\")\n",
    "print(df.columns)\n",
    "df.head()\n"
   ]
  },
  {
   "cell_type": "code",
   "execution_count": 164,
   "id": "ce028e4c-bbf1-410a-badc-7d1e66de0510",
   "metadata": {
    "execution": {
     "iopub.execute_input": "2023-08-04T06:35:55.446796Z",
     "iopub.status.busy": "2023-08-04T06:35:55.446301Z",
     "iopub.status.idle": "2023-08-04T06:35:55.522196Z",
     "shell.execute_reply": "2023-08-04T06:35:55.521700Z",
     "shell.execute_reply.started": "2023-08-04T06:35:55.446796Z"
    }
   },
   "outputs": [
    {
     "name": "stdout",
     "output_type": "stream",
     "text": [
      "                      Timestamp  Open  High  Low  Close  Volume_(BTC)  \\\n",
      "date                                                                    \n",
      "2021-03-29 22:09:00  1617080940   NaN   NaN  NaN    NaN           NaN   \n",
      "2021-03-29 23:12:00  1617084720   NaN   NaN  NaN    NaN           NaN   \n",
      "2021-03-30 00:20:00  1617088800   NaN   NaN  NaN    NaN           NaN   \n",
      "2021-03-30 16:24:00  1617146640   NaN   NaN  NaN    NaN           NaN   \n",
      "2021-03-30 16:52:00  1617148320   NaN   NaN  NaN    NaN           NaN   \n",
      "\n",
      "                     Volume_(Currency)  Weighted_Price  \n",
      "date                                                    \n",
      "2021-03-29 22:09:00                NaN             NaN  \n",
      "2021-03-29 23:12:00                NaN             NaN  \n",
      "2021-03-30 00:20:00                NaN             NaN  \n",
      "2021-03-30 16:24:00                NaN             NaN  \n",
      "2021-03-30 16:52:00                NaN             NaN  \n"
     ]
    }
   ],
   "source": [
    "print(df[df['Close'].isna()].tail())"
   ]
  },
  {
   "cell_type": "code",
   "execution_count": 142,
   "id": "548db24f-d242-4aa0-840a-18e698022120",
   "metadata": {
    "execution": {
     "iopub.execute_input": "2023-08-04T06:13:35.748629Z",
     "iopub.status.busy": "2023-08-04T06:13:35.748629Z",
     "iopub.status.idle": "2023-08-04T06:13:45.146976Z",
     "shell.execute_reply": "2023-08-04T06:13:45.146480Z",
     "shell.execute_reply.started": "2023-08-04T06:13:35.748629Z"
    }
   },
   "outputs": [
    {
     "data": {
      "text/html": [
       "<div>\n",
       "<style scoped>\n",
       "    .dataframe tbody tr th:only-of-type {\n",
       "        vertical-align: middle;\n",
       "    }\n",
       "\n",
       "    .dataframe tbody tr th {\n",
       "        vertical-align: top;\n",
       "    }\n",
       "\n",
       "    .dataframe thead th {\n",
       "        text-align: right;\n",
       "    }\n",
       "</style>\n",
       "<table border=\"1\" class=\"dataframe\">\n",
       "  <thead>\n",
       "    <tr style=\"text-align: right;\">\n",
       "      <th></th>\n",
       "      <th>Timestamp</th>\n",
       "      <th>Open</th>\n",
       "      <th>High</th>\n",
       "      <th>Low</th>\n",
       "      <th>Close</th>\n",
       "      <th>Volume_(BTC)</th>\n",
       "      <th>Volume_(Currency)</th>\n",
       "      <th>Weighted_Price</th>\n",
       "    </tr>\n",
       "    <tr>\n",
       "      <th>date</th>\n",
       "      <th></th>\n",
       "      <th></th>\n",
       "      <th></th>\n",
       "      <th></th>\n",
       "      <th></th>\n",
       "      <th></th>\n",
       "      <th></th>\n",
       "      <th></th>\n",
       "    </tr>\n",
       "  </thead>\n",
       "  <tbody>\n",
       "    <tr>\n",
       "      <th>2011-12-30 23:52:00</th>\n",
       "      <td>1325317920</td>\n",
       "      <td>4.39</td>\n",
       "      <td>4.39</td>\n",
       "      <td>4.39</td>\n",
       "      <td>4.39</td>\n",
       "      <td>0.455581</td>\n",
       "      <td>2.0</td>\n",
       "      <td>4.39</td>\n",
       "    </tr>\n",
       "    <tr>\n",
       "      <th>2011-12-30 23:53:00</th>\n",
       "      <td>1325317980</td>\n",
       "      <td>NaN</td>\n",
       "      <td>NaN</td>\n",
       "      <td>NaN</td>\n",
       "      <td>NaN</td>\n",
       "      <td>NaN</td>\n",
       "      <td>NaN</td>\n",
       "      <td>NaN</td>\n",
       "    </tr>\n",
       "    <tr>\n",
       "      <th>2011-12-30 23:54:00</th>\n",
       "      <td>1325318040</td>\n",
       "      <td>NaN</td>\n",
       "      <td>NaN</td>\n",
       "      <td>NaN</td>\n",
       "      <td>NaN</td>\n",
       "      <td>NaN</td>\n",
       "      <td>NaN</td>\n",
       "      <td>NaN</td>\n",
       "    </tr>\n",
       "    <tr>\n",
       "      <th>2011-12-30 23:55:00</th>\n",
       "      <td>1325318100</td>\n",
       "      <td>NaN</td>\n",
       "      <td>NaN</td>\n",
       "      <td>NaN</td>\n",
       "      <td>NaN</td>\n",
       "      <td>NaN</td>\n",
       "      <td>NaN</td>\n",
       "      <td>NaN</td>\n",
       "    </tr>\n",
       "    <tr>\n",
       "      <th>2011-12-30 23:56:00</th>\n",
       "      <td>1325318160</td>\n",
       "      <td>NaN</td>\n",
       "      <td>NaN</td>\n",
       "      <td>NaN</td>\n",
       "      <td>NaN</td>\n",
       "      <td>NaN</td>\n",
       "      <td>NaN</td>\n",
       "      <td>NaN</td>\n",
       "    </tr>\n",
       "  </tbody>\n",
       "</table>\n",
       "</div>"
      ],
      "text/plain": [
       "                      Timestamp  Open  High   Low  Close  Volume_(BTC)  \\\n",
       "date                                                                     \n",
       "2011-12-30 23:52:00  1325317920  4.39  4.39  4.39   4.39      0.455581   \n",
       "2011-12-30 23:53:00  1325317980   NaN   NaN   NaN    NaN           NaN   \n",
       "2011-12-30 23:54:00  1325318040   NaN   NaN   NaN    NaN           NaN   \n",
       "2011-12-30 23:55:00  1325318100   NaN   NaN   NaN    NaN           NaN   \n",
       "2011-12-30 23:56:00  1325318160   NaN   NaN   NaN    NaN           NaN   \n",
       "\n",
       "                     Volume_(Currency)  Weighted_Price  \n",
       "date                                                    \n",
       "2011-12-30 23:52:00                2.0            4.39  \n",
       "2011-12-30 23:53:00                NaN             NaN  \n",
       "2011-12-30 23:54:00                NaN             NaN  \n",
       "2011-12-30 23:55:00                NaN             NaN  \n",
       "2011-12-30 23:56:00                NaN             NaN  "
      ]
     },
     "execution_count": 142,
     "metadata": {},
     "output_type": "execute_result"
    }
   ],
   "source": [
    "datetime_str = '1325318160'\n",
    "datetime.fromtimestamp(1325318160)\n",
    "# datetime_object = datetime.strptime(datetime_str, '%m/%d/%Y %H:%M')\n",
    "datetime_converted = pd.Series([datetime.fromtimestamp(el) for el in df['Timestamp']])\n",
    "df['date'] = datetime_converted\n",
    "df.set_index('date', inplace=True)\n",
    "df.head()"
   ]
  },
  {
   "cell_type": "code",
   "execution_count": null,
   "id": "11d8e62e-91de-4974-8845-41af65cdc0ee",
   "metadata": {},
   "outputs": [],
   "source": []
  },
  {
   "cell_type": "code",
   "execution_count": 160,
   "id": "7cb8cef3-48c1-4459-a5dc-774132fc1062",
   "metadata": {
    "execution": {
     "iopub.execute_input": "2023-08-04T06:33:16.432253Z",
     "iopub.status.busy": "2023-08-04T06:33:16.432253Z",
     "iopub.status.idle": "2023-08-04T06:33:16.510132Z",
     "shell.execute_reply": "2023-08-04T06:33:16.509636Z",
     "shell.execute_reply.started": "2023-08-04T06:33:16.432253Z"
    }
   },
   "outputs": [
    {
     "data": {
      "text/html": [
       "<div>\n",
       "<style scoped>\n",
       "    .dataframe tbody tr th:only-of-type {\n",
       "        vertical-align: middle;\n",
       "    }\n",
       "\n",
       "    .dataframe tbody tr th {\n",
       "        vertical-align: top;\n",
       "    }\n",
       "\n",
       "    .dataframe thead th {\n",
       "        text-align: right;\n",
       "    }\n",
       "</style>\n",
       "<table border=\"1\" class=\"dataframe\">\n",
       "  <thead>\n",
       "    <tr style=\"text-align: right;\">\n",
       "      <th></th>\n",
       "      <th>Timestamp</th>\n",
       "      <th>Open</th>\n",
       "      <th>High</th>\n",
       "      <th>Low</th>\n",
       "      <th>Close</th>\n",
       "      <th>Volume_(BTC)</th>\n",
       "      <th>Volume_(Currency)</th>\n",
       "      <th>Weighted_Price</th>\n",
       "    </tr>\n",
       "    <tr>\n",
       "      <th>date</th>\n",
       "      <th></th>\n",
       "      <th></th>\n",
       "      <th></th>\n",
       "      <th></th>\n",
       "      <th></th>\n",
       "      <th></th>\n",
       "      <th></th>\n",
       "      <th></th>\n",
       "    </tr>\n",
       "  </thead>\n",
       "  <tbody>\n",
       "    <tr>\n",
       "      <th>2015-01-10 19:46:00</th>\n",
       "      <td>1420947960</td>\n",
       "      <td>NaN</td>\n",
       "      <td>NaN</td>\n",
       "      <td>NaN</td>\n",
       "      <td>NaN</td>\n",
       "      <td>NaN</td>\n",
       "      <td>NaN</td>\n",
       "      <td>NaN</td>\n",
       "    </tr>\n",
       "    <tr>\n",
       "      <th>2015-01-10 19:47:00</th>\n",
       "      <td>1420948020</td>\n",
       "      <td>NaN</td>\n",
       "      <td>NaN</td>\n",
       "      <td>NaN</td>\n",
       "      <td>NaN</td>\n",
       "      <td>NaN</td>\n",
       "      <td>NaN</td>\n",
       "      <td>NaN</td>\n",
       "    </tr>\n",
       "    <tr>\n",
       "      <th>2015-01-10 19:48:00</th>\n",
       "      <td>1420948080</td>\n",
       "      <td>NaN</td>\n",
       "      <td>NaN</td>\n",
       "      <td>NaN</td>\n",
       "      <td>NaN</td>\n",
       "      <td>NaN</td>\n",
       "      <td>NaN</td>\n",
       "      <td>NaN</td>\n",
       "    </tr>\n",
       "    <tr>\n",
       "      <th>2015-01-10 19:49:00</th>\n",
       "      <td>1420948140</td>\n",
       "      <td>NaN</td>\n",
       "      <td>NaN</td>\n",
       "      <td>NaN</td>\n",
       "      <td>NaN</td>\n",
       "      <td>NaN</td>\n",
       "      <td>NaN</td>\n",
       "      <td>NaN</td>\n",
       "    </tr>\n",
       "    <tr>\n",
       "      <th>2015-01-10 19:50:00</th>\n",
       "      <td>1420948200</td>\n",
       "      <td>279.83</td>\n",
       "      <td>280.09</td>\n",
       "      <td>279.83</td>\n",
       "      <td>280.09</td>\n",
       "      <td>0.5051</td>\n",
       "      <td>141.398319</td>\n",
       "      <td>279.941237</td>\n",
       "    </tr>\n",
       "  </tbody>\n",
       "</table>\n",
       "</div>"
      ],
      "text/plain": [
       "                      Timestamp    Open    High     Low   Close  Volume_(BTC)  \\\n",
       "date                                                                            \n",
       "2015-01-10 19:46:00  1420947960     NaN     NaN     NaN     NaN           NaN   \n",
       "2015-01-10 19:47:00  1420948020     NaN     NaN     NaN     NaN           NaN   \n",
       "2015-01-10 19:48:00  1420948080     NaN     NaN     NaN     NaN           NaN   \n",
       "2015-01-10 19:49:00  1420948140     NaN     NaN     NaN     NaN           NaN   \n",
       "2015-01-10 19:50:00  1420948200  279.83  280.09  279.83  280.09        0.5051   \n",
       "\n",
       "                     Volume_(Currency)  Weighted_Price  \n",
       "date                                                    \n",
       "2015-01-10 19:46:00                NaN             NaN  \n",
       "2015-01-10 19:47:00                NaN             NaN  \n",
       "2015-01-10 19:48:00                NaN             NaN  \n",
       "2015-01-10 19:49:00                NaN             NaN  \n",
       "2015-01-10 19:50:00         141.398319      279.941237  "
      ]
     },
     "execution_count": 160,
     "metadata": {},
     "output_type": "execute_result"
    }
   ],
   "source": [
    "rng = df.loc['2015-1-10 19:46:00':'2015-1-11 7:46:00']\n",
    "rng.head()\n"
   ]
  },
  {
   "cell_type": "code",
   "execution_count": 158,
   "id": "9d638f5b-1206-44ca-b249-a4b92a987f3f",
   "metadata": {
    "execution": {
     "iopub.execute_input": "2023-08-04T06:32:50.697276Z",
     "iopub.status.busy": "2023-08-04T06:32:50.696284Z",
     "iopub.status.idle": "2023-08-04T06:32:50.882303Z",
     "shell.execute_reply": "2023-08-04T06:32:50.881840Z",
     "shell.execute_reply.started": "2023-08-04T06:32:50.697276Z"
    }
   },
   "outputs": [
    {
     "data": {
      "text/plain": [
       "[<matplotlib.lines.Line2D at 0x1ac1768ec50>]"
      ]
     },
     "execution_count": 158,
     "metadata": {},
     "output_type": "execute_result"
    },
    {
     "data": {
      "image/png": "[encoded data removed]",
      "text/plain": [
       "<Figure size 640x480 with 1 Axes>"
      ]
     },
     "metadata": {},
     "output_type": "display_data"
    }
   ],
   "source": [
    "rng = df.loc['2015-1-10 19:46:00':'2015-1-11 7:46:00']\n",
    "plt.plot(np.arange(len(rng)), rng['Close'])"
   ]
  },
  {
   "cell_type": "code",
   "execution_count": 131,
   "id": "1f261ff0-91af-403d-89f7-1398dc5b1abd",
   "metadata": {
    "execution": {
     "iopub.execute_input": "2023-08-04T06:12:16.039443Z",
     "iopub.status.busy": "2023-08-04T06:12:16.039443Z",
     "iopub.status.idle": "2023-08-04T06:12:16.042916Z",
     "shell.execute_reply": "2023-08-04T06:12:16.042447Z",
     "shell.execute_reply.started": "2023-08-04T06:12:16.039443Z"
    }
   },
   "outputs": [],
   "source": [
    "# datetime_converted = pd.Series([datetime.strptime(el, '%m/%d/%Y %H:%M') for el in df['date']])\n",
    "# df['date'] = datetime_converted\n",
    "# df.set_index('date', inplace=True)\n",
    "# df.tail()"
   ]
  },
  {
   "cell_type": "markdown",
   "id": "2425ca4c-024a-4a04-acbd-98ea3165c528",
   "metadata": {},
   "source": [
    "# Some Functions"
   ]
  },
  {
   "cell_type": "code",
   "execution_count": 146,
   "id": "4b006cb5-d36c-4af0-acba-08008b889fc1",
   "metadata": {
    "execution": {
     "iopub.execute_input": "2023-08-04T06:14:49.961805Z",
     "iopub.status.busy": "2023-08-04T06:14:49.961805Z",
     "iopub.status.idle": "2023-08-04T06:14:49.966761Z",
     "shell.execute_reply": "2023-08-04T06:14:49.966265Z",
     "shell.execute_reply.started": "2023-08-04T06:14:49.961805Z"
    }
   },
   "outputs": [],
   "source": [
    "def getTEvents(raw_price, h):\n",
    "    \"\"\"\n",
    "    Finds timestamps of 'events' i.e. spots where something interesting happens\n",
    "    according to the symmetric CUSUM filter.\n",
    "    \"\"\"\n",
    "    tEvents, sPos, sNeg = [], 0, 0\n",
    "    diff = np.log(raw_price).diff().dropna()\n",
    "    for i in tqdm(diff.index[1:]):\n",
    "        sPos, sNeg = max(0, sPos + diff.loc[i]), min(0, sNeg + diff.loc[i])\n",
    "        if sNeg < -h:\n",
    "            sNeg = 0\n",
    "            tEvents.append(i)\n",
    "        elif sPos > h:\n",
    "            sPos = 0\n",
    "            tEvents.append(i)\n",
    "    return pd.DatetimeIndex(tEvents)"
   ]
  },
  {
   "cell_type": "code",
   "execution_count": 144,
   "id": "53b91f5e-f6eb-4d1d-8f6d-2e1a1ab9f8e6",
   "metadata": {
    "execution": {
     "iopub.execute_input": "2023-08-04T06:13:45.154430Z",
     "iopub.status.busy": "2023-08-04T06:13:45.153921Z",
     "iopub.status.idle": "2023-08-04T06:13:45.159903Z",
     "shell.execute_reply": "2023-08-04T06:13:45.159406Z",
     "shell.execute_reply.started": "2023-08-04T06:13:45.154430Z"
    }
   },
   "outputs": [],
   "source": [
    "def get_daily_vol(closing_prices, lookback=100):\n",
    "    \"\"\"\n",
    "    Returns:\n",
    "        A pd.Series of daily volatility value\n",
    "    \"\"\"\n",
    "    print('Calculating daily volatility for dynamic thresholds')\n",
    "    \n",
    "    df_ = closing_prices.index.searchsorted(closing_prices.index - pd.Timedelta(days=1))\n",
    "    df_ = df_[df_ > 0]\n",
    "    df_ = (pd.Series(closing_prices.index[df_ - 1], index=closing_prices.index[closing_prices.shape[0] - df_.shape[0]:]))\n",
    "        \n",
    "    df_ = closing_prices.loc[df_.index] / closing_prices.loc[df_.values].values - 1  # daily returns\n",
    "    df_ = df_.ewm(span=lookback).std()\n",
    "    return df_"
   ]
  },
  {
   "cell_type": "code",
   "execution_count": 134,
   "id": "8c9e0e7f-2b11-48a2-9803-5f6571b89486",
   "metadata": {
    "execution": {
     "iopub.execute_input": "2023-08-04T06:12:16.057302Z",
     "iopub.status.busy": "2023-08-04T06:12:16.056806Z",
     "iopub.status.idle": "2023-08-04T06:12:16.063254Z",
     "shell.execute_reply": "2023-08-04T06:12:16.062758Z",
     "shell.execute_reply.started": "2023-08-04T06:12:16.057302Z"
    }
   },
   "outputs": [],
   "source": [
    "def applyPtSlOnT1(close, events, ptSl, molecule):\n",
    "    # apply stop loss/profit taking, if it takes place before t1 (end of event)\n",
    "    events_ = events.loc[molecule]\n",
    "    out = events_[['t1']].copy(deep=True)\n",
    "    if ptSl[0] > 0:\n",
    "        pt = ptSl[0] * events_['target']\n",
    "    else:\n",
    "        pt = pd.Series(index=events.index) # NaNs\n",
    "    if ptSl[1] > 0:\n",
    "        sl=-ptSl[1] * events_['target']\n",
    "    else:\n",
    "        sl = pd.Series(index=events.index) # NaNs\n",
    "    for loc, t1 in events_['t1'].fillna(close.index[-1]).iteritems():\n",
    "        df0 = close[loc:t1] # path prices\n",
    "        df0 = (df0 / close[loc]-1) * events_.at[loc, 'side'] # path returns\n",
    "        out.loc[loc,'sl'] = df0[df0<sl[loc]].index.min() # earliest stop loss.\n",
    "        out.loc[loc,'pt'] = df0[df0>pt[loc]].index.min() # earliest profit taking.\n",
    "    return out"
   ]
  },
  {
   "cell_type": "code",
   "execution_count": 135,
   "id": "dd20d66f-4f1d-4fd3-b2a3-61f3bfa411b3",
   "metadata": {
    "execution": {
     "iopub.execute_input": "2023-08-04T06:12:16.064246Z",
     "iopub.status.busy": "2023-08-04T06:12:16.063750Z",
     "iopub.status.idle": "2023-08-04T06:12:16.069207Z",
     "shell.execute_reply": "2023-08-04T06:12:16.068711Z",
     "shell.execute_reply.started": "2023-08-04T06:12:16.064246Z"
    }
   },
   "outputs": [],
   "source": [
    "def getBins(events, close):\n",
    "    \"\"\"\n",
    "    Compute event's outcome (including side information, if provided).\n",
    "    events is a DataFrame where:\n",
    "    —events.index is event's starttime\n",
    "    —events['t1'] is event's endtime\n",
    "    —events['trgt'] is event's target\n",
    "    —events['side'] (optional) implies the algo's position side\n",
    "    Case 1: ('side' not in events): bin in (-1,1) <—label by price action\n",
    "    Case 2: ('side' in events): bin in (0,1) <— label by pnl (meta-labeling)\n",
    "    \"\"\"\n",
    "    #1) prices aligned with events\n",
    "    events_ = events.dropna(subset=['t1'])\n",
    "    px = events_.index.union(events_['t1'].values).drop_duplicates()\n",
    "    px = close.reindex(px, method='bfill')\n",
    "    #2) create out object\n",
    "    out = pd.DataFrame(index=events_.index)\n",
    "    out['ret'] = px.loc[events_['t1'].values].values / px.loc[events_.index] - 1\n",
    "    if 'side' in events_:\n",
    "        out['ret'] *= events_['side'] # meta-labeling\n",
    "    out['bin'] = np.sign(out['ret'])\n",
    "    if 'side' in events_:\n",
    "        out.loc[out['ret'] <= 0, 'bin'] = 0 # meta-labeling\n",
    "    return out"
   ]
  },
  {
   "cell_type": "code",
   "execution_count": 136,
   "id": "899ff5b4-6b5c-480a-9899-78098df358bf",
   "metadata": {
    "execution": {
     "iopub.execute_input": "2023-08-04T06:12:16.070696Z",
     "iopub.status.busy": "2023-08-04T06:12:16.069703Z",
     "iopub.status.idle": "2023-08-04T06:12:16.076152Z",
     "shell.execute_reply": "2023-08-04T06:12:16.075657Z",
     "shell.execute_reply.started": "2023-08-04T06:12:16.070696Z"
    }
   },
   "outputs": [],
   "source": [
    "def drop_labels(events, minPtc=.05):\n",
    "    \"\"\"\n",
    "    Apply weights, drop labels that happen too rarely\n",
    "    \"\"\"\n",
    "    while True:\n",
    "        df_ = events['bin'].value_counts(normalize=True)\n",
    "        if df_.min() > minPct or df_.shape[0] < 3:\n",
    "            break\n",
    "        print('dropped label', df_.argmin(), df_.min())\n",
    "        events = events[events['bin'] != df_.argmin()]\n",
    "    return events"
   ]
  },
  {
   "cell_type": "code",
   "execution_count": 137,
   "id": "806de6e9-7019-4779-a244-ba5eaed7c402",
   "metadata": {
    "execution": {
     "iopub.execute_input": "2023-08-04T06:12:16.076648Z",
     "iopub.status.busy": "2023-08-04T06:12:16.076648Z",
     "iopub.status.idle": "2023-08-04T06:12:16.081609Z",
     "shell.execute_reply": "2023-08-04T06:12:16.081609Z",
     "shell.execute_reply.started": "2023-08-04T06:12:16.076648Z"
    }
   },
   "outputs": [],
   "source": [
    "def get_events(close, tEvents, ptSl, target, min_return, num_threads, t1=False, side=None):\n",
    "    target = target.loc[tEvents]\n",
    "    target = target[target > min_return]\n",
    "    if not t1:\n",
    "        t1 = pd.Series(pd.NaT, index=tEvents) # Not a Time\n",
    "    side_, ptSl_ = pd.Series(1., index=target.index), [ptSl[0], ptSl[0]] if not side else\\\n",
    "        side.loc[target.index], ptSl[:2]\n",
    "    events = pd.concat({ \"t1\": t1, \"target\": target, \"side\": side_ }, axis=1).dropna(subset=[\"target\"])\n",
    "    df0 = mp_pandas_job(func=applyPtSlOnT1, pd_obj=('molecule', events.index), num_threads=num_threads,\\\n",
    "                        close=close, events=events, ptSl=ptSl_)\n",
    "    events['t1'] = df0.dropna(how='all').min(axis=1) # pd.min ignores nan\n",
    "    if side is None:\n",
    "        events = events.drop('side', axis=1)\n",
    "    return events"
   ]
  },
  {
   "cell_type": "code",
   "execution_count": null,
   "id": "fb0888d9-818e-4fff-a076-bced5b3c90b3",
   "metadata": {},
   "outputs": [],
   "source": []
  },
  {
   "cell_type": "code",
   "execution_count": 138,
   "id": "f1cb87c3-572f-433d-854f-401ba08b33bb",
   "metadata": {
    "execution": {
     "iopub.execute_input": "2023-08-04T06:12:16.083593Z",
     "iopub.status.busy": "2023-08-04T06:12:16.083098Z",
     "iopub.status.idle": "2023-08-04T06:12:16.089546Z",
     "shell.execute_reply": "2023-08-04T06:12:16.088554Z",
     "shell.execute_reply.started": "2023-08-04T06:12:16.083593Z"
    }
   },
   "outputs": [],
   "source": [
    "def bbands(close_prices, window, no_of_stdev):\n",
    "    # rolling_mean = close_prices.rolling(window=window).mean()\n",
    "    # rolling_std = close_prices.rolling(window=window).std()\n",
    "    rolling_mean = close_prices.ewm(span=window).mean()\n",
    "    rolling_std = close_prices.ewm(span=window).std()\n",
    "\n",
    "    upper_band = rolling_mean + (rolling_std * no_of_stdev)\n",
    "    lower_band = rolling_mean - (rolling_std * no_of_stdev)\n",
    "\n",
    "    return rolling_mean, upper_band, lower_band"
   ]
  },
  {
   "cell_type": "code",
   "execution_count": 139,
   "id": "59bfc6e8-0275-4ac0-ab44-3fe5780af696",
   "metadata": {
    "execution": {
     "iopub.execute_input": "2023-08-04T06:12:16.091034Z",
     "iopub.status.busy": "2023-08-04T06:12:16.090539Z",
     "iopub.status.idle": "2023-08-04T06:12:16.095498Z",
     "shell.execute_reply": "2023-08-04T06:12:16.095003Z",
     "shell.execute_reply.started": "2023-08-04T06:12:16.091034Z"
    }
   },
   "outputs": [],
   "source": [
    "def add_vertical_barrier(t_events, close, num_days=1):\n",
    "    \"\"\"\n",
    "    :param t_events: (series) series of events (symmetric CUSUM filter)\n",
    "    :param close: (series) close prices\n",
    "    :param num_days: (int) maximum number of days a trade can be active\n",
    "    :return: (series) timestamps of vertical barriers\n",
    "    \"\"\"\n",
    "    t1 = close.index.searchsorted(t_events + pd.Timedelta(days=num_days))\n",
    "    t1 = t1[t1 < close.shape[0]]\n",
    "    t1 = pd.Series(close.index[t1], index=t_events[:t1.shape[0]])  # NaNs at end\n",
    "    return t1"
   ]
  },
  {
   "cell_type": "code",
   "execution_count": 148,
   "id": "bb17c538-30a4-4a19-9c8b-149ba92c8534",
   "metadata": {
    "execution": {
     "iopub.execute_input": "2023-08-04T06:16:42.851891Z",
     "iopub.status.busy": "2023-08-04T06:16:42.851395Z",
     "iopub.status.idle": "2023-08-04T06:17:14.107384Z",
     "shell.execute_reply": "2023-08-04T06:17:14.106919Z",
     "shell.execute_reply.started": "2023-08-04T06:16:42.851891Z"
    },
    "scrolled": true
   },
   "outputs": [
    {
     "name": "stdout",
     "output_type": "stream",
     "text": [
      "Calculating daily volatility for dynamic thresholds\n"
     ]
    },
    {
     "ename": "ValueError",
     "evalue": "operands could not be broadcast together with shapes (4857016,) (4856476,) ",
     "output_type": "error",
     "traceback": [
      "\u001b[1;31m---------------------------------------------------------------------------\u001b[0m",
      "\u001b[1;31mValueError\u001b[0m                                Traceback (most recent call last)",
      "Cell \u001b[1;32mIn[148], line 4\u001b[0m\n\u001b[0;32m      2\u001b[0m close \u001b[38;5;241m=\u001b[39m df[\u001b[38;5;124m'\u001b[39m\u001b[38;5;124mClose\u001b[39m\u001b[38;5;124m'\u001b[39m]\n\u001b[0;32m      3\u001b[0m \u001b[38;5;66;03m# find daily volatilities\u001b[39;00m\n\u001b[1;32m----> 4\u001b[0m volatilities \u001b[38;5;241m=\u001b[39m \u001b[43mget_daily_vol\u001b[49m\u001b[43m(\u001b[49m\u001b[43mclose\u001b[49m\u001b[43m)\u001b[49m\n\u001b[0;32m      6\u001b[0m \u001b[38;5;66;03m# find timestamps where 'significant' events occurred\u001b[39;00m\n\u001b[0;32m      7\u001b[0m tEvents \u001b[38;5;241m=\u001b[39m getTEvents(close, volatilities\u001b[38;5;241m.\u001b[39mmean() \u001b[38;5;241m*\u001b[39m \u001b[38;5;241m0.1\u001b[39m)\n",
      "Cell \u001b[1;32mIn[144], line 12\u001b[0m, in \u001b[0;36mget_daily_vol\u001b[1;34m(closing_prices, lookback)\u001b[0m\n\u001b[0;32m      9\u001b[0m df_ \u001b[38;5;241m=\u001b[39m df_[df_ \u001b[38;5;241m>\u001b[39m \u001b[38;5;241m0\u001b[39m]\n\u001b[0;32m     10\u001b[0m df_ \u001b[38;5;241m=\u001b[39m (pd\u001b[38;5;241m.\u001b[39mSeries(closing_prices\u001b[38;5;241m.\u001b[39mindex[df_ \u001b[38;5;241m-\u001b[39m \u001b[38;5;241m1\u001b[39m], index\u001b[38;5;241m=\u001b[39mclosing_prices\u001b[38;5;241m.\u001b[39mindex[closing_prices\u001b[38;5;241m.\u001b[39mshape[\u001b[38;5;241m0\u001b[39m] \u001b[38;5;241m-\u001b[39m df_\u001b[38;5;241m.\u001b[39mshape[\u001b[38;5;241m0\u001b[39m]:]))\n\u001b[1;32m---> 12\u001b[0m df_ \u001b[38;5;241m=\u001b[39m \u001b[43mclosing_prices\u001b[49m\u001b[38;5;241;43m.\u001b[39;49m\u001b[43mloc\u001b[49m\u001b[43m[\u001b[49m\u001b[43mdf_\u001b[49m\u001b[38;5;241;43m.\u001b[39;49m\u001b[43mindex\u001b[49m\u001b[43m]\u001b[49m\u001b[43m \u001b[49m\u001b[38;5;241;43m/\u001b[39;49m\u001b[43m \u001b[49m\u001b[43mclosing_prices\u001b[49m\u001b[38;5;241;43m.\u001b[39;49m\u001b[43mloc\u001b[49m\u001b[43m[\u001b[49m\u001b[43mdf_\u001b[49m\u001b[38;5;241;43m.\u001b[39;49m\u001b[43mvalues\u001b[49m\u001b[43m]\u001b[49m\u001b[38;5;241;43m.\u001b[39;49m\u001b[43mvalues\u001b[49m \u001b[38;5;241m-\u001b[39m \u001b[38;5;241m1\u001b[39m  \u001b[38;5;66;03m# daily returns\u001b[39;00m\n\u001b[0;32m     13\u001b[0m df_ \u001b[38;5;241m=\u001b[39m df_\u001b[38;5;241m.\u001b[39mewm(span\u001b[38;5;241m=\u001b[39mlookback)\u001b[38;5;241m.\u001b[39mstd()\n\u001b[0;32m     14\u001b[0m \u001b[38;5;28;01mreturn\u001b[39;00m df_\n",
      "File \u001b[1;32mC:\\Python311\\Lib\\site-packages\\pandas\\core\\ops\\common.py:81\u001b[0m, in \u001b[0;36m_unpack_zerodim_and_defer.<locals>.new_method\u001b[1;34m(self, other)\u001b[0m\n\u001b[0;32m     77\u001b[0m             \u001b[38;5;28;01mreturn\u001b[39;00m \u001b[38;5;28mNotImplemented\u001b[39m\n\u001b[0;32m     79\u001b[0m other \u001b[38;5;241m=\u001b[39m item_from_zerodim(other)\n\u001b[1;32m---> 81\u001b[0m \u001b[38;5;28;01mreturn\u001b[39;00m \u001b[43mmethod\u001b[49m\u001b[43m(\u001b[49m\u001b[38;5;28;43mself\u001b[39;49m\u001b[43m,\u001b[49m\u001b[43m \u001b[49m\u001b[43mother\u001b[49m\u001b[43m)\u001b[49m\n",
      "File \u001b[1;32mC:\\Python311\\Lib\\site-packages\\pandas\\core\\arraylike.py:210\u001b[0m, in \u001b[0;36mOpsMixin.__truediv__\u001b[1;34m(self, other)\u001b[0m\n\u001b[0;32m    208\u001b[0m \u001b[38;5;129m@unpack_zerodim_and_defer\u001b[39m(\u001b[38;5;124m\"\u001b[39m\u001b[38;5;124m__truediv__\u001b[39m\u001b[38;5;124m\"\u001b[39m)\n\u001b[0;32m    209\u001b[0m \u001b[38;5;28;01mdef\u001b[39;00m \u001b[38;5;21m__truediv__\u001b[39m(\u001b[38;5;28mself\u001b[39m, other):\n\u001b[1;32m--> 210\u001b[0m     \u001b[38;5;28;01mreturn\u001b[39;00m \u001b[38;5;28;43mself\u001b[39;49m\u001b[38;5;241;43m.\u001b[39;49m\u001b[43m_arith_method\u001b[49m\u001b[43m(\u001b[49m\u001b[43mother\u001b[49m\u001b[43m,\u001b[49m\u001b[43m \u001b[49m\u001b[43moperator\u001b[49m\u001b[38;5;241;43m.\u001b[39;49m\u001b[43mtruediv\u001b[49m\u001b[43m)\u001b[49m\n",
      "File \u001b[1;32mC:\\Python311\\Lib\\site-packages\\pandas\\core\\series.py:6112\u001b[0m, in \u001b[0;36mSeries._arith_method\u001b[1;34m(self, other, op)\u001b[0m\n\u001b[0;32m   6110\u001b[0m \u001b[38;5;28;01mdef\u001b[39;00m \u001b[38;5;21m_arith_method\u001b[39m(\u001b[38;5;28mself\u001b[39m, other, op):\n\u001b[0;32m   6111\u001b[0m     \u001b[38;5;28mself\u001b[39m, other \u001b[38;5;241m=\u001b[39m ops\u001b[38;5;241m.\u001b[39malign_method_SERIES(\u001b[38;5;28mself\u001b[39m, other)\n\u001b[1;32m-> 6112\u001b[0m     \u001b[38;5;28;01mreturn\u001b[39;00m \u001b[43mbase\u001b[49m\u001b[38;5;241;43m.\u001b[39;49m\u001b[43mIndexOpsMixin\u001b[49m\u001b[38;5;241;43m.\u001b[39;49m\u001b[43m_arith_method\u001b[49m\u001b[43m(\u001b[49m\u001b[38;5;28;43mself\u001b[39;49m\u001b[43m,\u001b[49m\u001b[43m \u001b[49m\u001b[43mother\u001b[49m\u001b[43m,\u001b[49m\u001b[43m \u001b[49m\u001b[43mop\u001b[49m\u001b[43m)\u001b[49m\n",
      "File \u001b[1;32mC:\\Python311\\Lib\\site-packages\\pandas\\core\\base.py:1348\u001b[0m, in \u001b[0;36mIndexOpsMixin._arith_method\u001b[1;34m(self, other, op)\u001b[0m\n\u001b[0;32m   1345\u001b[0m rvalues \u001b[38;5;241m=\u001b[39m ensure_wrapped_if_datetimelike(rvalues)\n\u001b[0;32m   1347\u001b[0m \u001b[38;5;28;01mwith\u001b[39;00m np\u001b[38;5;241m.\u001b[39merrstate(\u001b[38;5;28mall\u001b[39m\u001b[38;5;241m=\u001b[39m\u001b[38;5;124m\"\u001b[39m\u001b[38;5;124mignore\u001b[39m\u001b[38;5;124m\"\u001b[39m):\n\u001b[1;32m-> 1348\u001b[0m     result \u001b[38;5;241m=\u001b[39m \u001b[43mops\u001b[49m\u001b[38;5;241;43m.\u001b[39;49m\u001b[43marithmetic_op\u001b[49m\u001b[43m(\u001b[49m\u001b[43mlvalues\u001b[49m\u001b[43m,\u001b[49m\u001b[43m \u001b[49m\u001b[43mrvalues\u001b[49m\u001b[43m,\u001b[49m\u001b[43m \u001b[49m\u001b[43mop\u001b[49m\u001b[43m)\u001b[49m\n\u001b[0;32m   1350\u001b[0m \u001b[38;5;28;01mreturn\u001b[39;00m \u001b[38;5;28mself\u001b[39m\u001b[38;5;241m.\u001b[39m_construct_result(result, name\u001b[38;5;241m=\u001b[39mres_name)\n",
      "File \u001b[1;32mC:\\Python311\\Lib\\site-packages\\pandas\\core\\ops\\array_ops.py:232\u001b[0m, in \u001b[0;36marithmetic_op\u001b[1;34m(left, right, op)\u001b[0m\n\u001b[0;32m    228\u001b[0m     _bool_arith_check(op, left, right)\n\u001b[0;32m    230\u001b[0m     \u001b[38;5;66;03m# error: Argument 1 to \"_na_arithmetic_op\" has incompatible type\u001b[39;00m\n\u001b[0;32m    231\u001b[0m     \u001b[38;5;66;03m# \"Union[ExtensionArray, ndarray[Any, Any]]\"; expected \"ndarray[Any, Any]\"\u001b[39;00m\n\u001b[1;32m--> 232\u001b[0m     res_values \u001b[38;5;241m=\u001b[39m \u001b[43m_na_arithmetic_op\u001b[49m\u001b[43m(\u001b[49m\u001b[43mleft\u001b[49m\u001b[43m,\u001b[49m\u001b[43m \u001b[49m\u001b[43mright\u001b[49m\u001b[43m,\u001b[49m\u001b[43m \u001b[49m\u001b[43mop\u001b[49m\u001b[43m)\u001b[49m  \u001b[38;5;66;03m# type: ignore[arg-type]\u001b[39;00m\n\u001b[0;32m    234\u001b[0m \u001b[38;5;28;01mreturn\u001b[39;00m res_values\n",
      "File \u001b[1;32mC:\\Python311\\Lib\\site-packages\\pandas\\core\\ops\\array_ops.py:171\u001b[0m, in \u001b[0;36m_na_arithmetic_op\u001b[1;34m(left, right, op, is_cmp)\u001b[0m\n\u001b[0;32m    168\u001b[0m     func \u001b[38;5;241m=\u001b[39m partial(expressions\u001b[38;5;241m.\u001b[39mevaluate, op)\n\u001b[0;32m    170\u001b[0m \u001b[38;5;28;01mtry\u001b[39;00m:\n\u001b[1;32m--> 171\u001b[0m     result \u001b[38;5;241m=\u001b[39m \u001b[43mfunc\u001b[49m\u001b[43m(\u001b[49m\u001b[43mleft\u001b[49m\u001b[43m,\u001b[49m\u001b[43m \u001b[49m\u001b[43mright\u001b[49m\u001b[43m)\u001b[49m\n\u001b[0;32m    172\u001b[0m \u001b[38;5;28;01mexcept\u001b[39;00m \u001b[38;5;167;01mTypeError\u001b[39;00m:\n\u001b[0;32m    173\u001b[0m     \u001b[38;5;28;01mif\u001b[39;00m \u001b[38;5;129;01mnot\u001b[39;00m is_cmp \u001b[38;5;129;01mand\u001b[39;00m (is_object_dtype(left\u001b[38;5;241m.\u001b[39mdtype) \u001b[38;5;129;01mor\u001b[39;00m is_object_dtype(right)):\n\u001b[0;32m    174\u001b[0m         \u001b[38;5;66;03m# For object dtype, fallback to a masked operation (only operating\u001b[39;00m\n\u001b[0;32m    175\u001b[0m         \u001b[38;5;66;03m#  on the non-missing values)\u001b[39;00m\n\u001b[0;32m    176\u001b[0m         \u001b[38;5;66;03m# Don't do this for comparisons, as that will handle complex numbers\u001b[39;00m\n\u001b[0;32m    177\u001b[0m         \u001b[38;5;66;03m#  incorrectly, see GH#32047\u001b[39;00m\n",
      "File \u001b[1;32mC:\\Python311\\Lib\\site-packages\\pandas\\core\\computation\\expressions.py:239\u001b[0m, in \u001b[0;36mevaluate\u001b[1;34m(op, a, b, use_numexpr)\u001b[0m\n\u001b[0;32m    236\u001b[0m \u001b[38;5;28;01mif\u001b[39;00m op_str \u001b[38;5;129;01mis\u001b[39;00m \u001b[38;5;129;01mnot\u001b[39;00m \u001b[38;5;28;01mNone\u001b[39;00m:\n\u001b[0;32m    237\u001b[0m     \u001b[38;5;28;01mif\u001b[39;00m use_numexpr:\n\u001b[0;32m    238\u001b[0m         \u001b[38;5;66;03m# error: \"None\" not callable\u001b[39;00m\n\u001b[1;32m--> 239\u001b[0m         \u001b[38;5;28;01mreturn\u001b[39;00m \u001b[43m_evaluate\u001b[49m\u001b[43m(\u001b[49m\u001b[43mop\u001b[49m\u001b[43m,\u001b[49m\u001b[43m \u001b[49m\u001b[43mop_str\u001b[49m\u001b[43m,\u001b[49m\u001b[43m \u001b[49m\u001b[43ma\u001b[49m\u001b[43m,\u001b[49m\u001b[43m \u001b[49m\u001b[43mb\u001b[49m\u001b[43m)\u001b[49m  \u001b[38;5;66;03m# type: ignore[misc]\u001b[39;00m\n\u001b[0;32m    240\u001b[0m \u001b[38;5;28;01mreturn\u001b[39;00m _evaluate_standard(op, op_str, a, b)\n",
      "File \u001b[1;32mC:\\Python311\\Lib\\site-packages\\pandas\\core\\computation\\expressions.py:70\u001b[0m, in \u001b[0;36m_evaluate_standard\u001b[1;34m(op, op_str, a, b)\u001b[0m\n\u001b[0;32m     68\u001b[0m \u001b[38;5;28;01mif\u001b[39;00m _TEST_MODE:\n\u001b[0;32m     69\u001b[0m     _store_test_result(\u001b[38;5;28;01mFalse\u001b[39;00m)\n\u001b[1;32m---> 70\u001b[0m \u001b[38;5;28;01mreturn\u001b[39;00m op(a, b)\n",
      "\u001b[1;31mValueError\u001b[0m: operands could not be broadcast together with shapes (4857016,) (4856476,) "
     ]
    }
   ],
   "source": [
    "#### Driver code\n",
    "close = df['Close']\n",
    "# find daily volatilities\n",
    "volatilities = get_daily_vol(close)\n",
    "\n",
    "# find timestamps where 'significant' events occurred\n",
    "tEvents = getTEvents(close, volatilities.mean() * 0.1)\n",
    "\n",
    "# adding vertical barriers with a half day expiration window\n",
    "vertical_barriers = add_vertical_barrier(t_events=cusum_events,\n",
    "                                         close=close, num_days=0.5)\n",
    "target = volatilities\n",
    "num_threads = 4\n",
    "t1 = None\n",
    "side = None\n",
    "pt_sl = [1, 2] # setting profit-take and stop-loss at 1% and 2%\n",
    "min_return = 0.0005 # setting a minimum return of 0.05%"
   ]
  },
  {
   "cell_type": "code",
   "execution_count": 123,
   "id": "bc5d1743-0226-4208-8573-a44e9f01af21",
   "metadata": {
    "execution": {
     "iopub.execute_input": "2023-08-04T06:08:32.431937Z",
     "iopub.status.busy": "2023-08-04T06:08:32.430945Z",
     "iopub.status.idle": "2023-08-04T06:08:32.925026Z",
     "shell.execute_reply": "2023-08-04T06:08:32.924530Z",
     "shell.execute_reply.started": "2023-08-04T06:08:32.431937Z"
    }
   },
   "outputs": [
    {
     "name": "stdout",
     "output_type": "stream",
     "text": [
      "side\n",
      " 1.0    190135\n",
      "-1.0    167896\n",
      "Name: count, dtype: int64\n"
     ]
    }
   ],
   "source": [
    "window = 50\n",
    "df['avg'], df['upper'], df['lower'] = bbands(df['Close'],window, no_of_stdev=1.5)\n",
    "\n",
    "# compute sides\n",
    "df['side'] = np.nan\n",
    "long_signals = (df['Close'] <= df['lower'])\n",
    "short_signals = (df['Close'] >= df['upper'])\n",
    "df.loc[long_signals, 'side'] = 1\n",
    "df.loc[short_signals, 'side'] = -1\n",
    "\n",
    "print(df.side.value_counts())\n",
    "\n",
    "# Remove Look ahead biase by lagging the signal\n",
    "df['side'] = df['side'].shift(1)\n",
    "\n",
    "# Drop the NaN values from our data set\n",
    "df.dropna(axis=0, how='any', inplace=True)"
   ]
  },
  {
   "cell_type": "code",
   "execution_count": 127,
   "id": "3c2bee06-10cc-43eb-a653-e5969c460d9c",
   "metadata": {
    "execution": {
     "iopub.execute_input": "2023-08-04T06:09:38.891642Z",
     "iopub.status.busy": "2023-08-04T06:09:38.891146Z",
     "iopub.status.idle": "2023-08-04T06:09:38.920418Z",
     "shell.execute_reply": "2023-08-04T06:09:38.919421Z",
     "shell.execute_reply.started": "2023-08-04T06:09:38.891642Z"
    }
   },
   "outputs": [
    {
     "ename": "ValueError",
     "evalue": "too many values to unpack (expected 2)",
     "output_type": "error",
     "traceback": [
      "\u001b[1;31m---------------------------------------------------------------------------\u001b[0m",
      "\u001b[1;31mValueError\u001b[0m                                Traceback (most recent call last)",
      "Cell \u001b[1;32mIn[127], line 1\u001b[0m\n\u001b[1;32m----> 1\u001b[0m \u001b[43mget_events\u001b[49m\u001b[43m(\u001b[49m\u001b[43mdf\u001b[49m\u001b[43m[\u001b[49m\u001b[38;5;124;43m'\u001b[39;49m\u001b[38;5;124;43mClose\u001b[39;49m\u001b[38;5;124;43m'\u001b[39;49m\u001b[43m]\u001b[49m\u001b[43m,\u001b[49m\u001b[43m \u001b[49m\u001b[43mtEvents\u001b[49m\u001b[43m,\u001b[49m\u001b[43m \u001b[49m\u001b[43mpt_sl\u001b[49m\u001b[43m,\u001b[49m\u001b[43m \u001b[49m\u001b[43mtarget\u001b[49m\u001b[43m,\u001b[49m\u001b[43m \u001b[49m\u001b[43mmin_return\u001b[49m\u001b[43m,\u001b[49m\u001b[43m \u001b[49m\u001b[43mnum_threads\u001b[49m\u001b[43m,\u001b[49m\u001b[43m \u001b[49m\u001b[43mt1\u001b[49m\u001b[38;5;241;43m=\u001b[39;49m\u001b[38;5;28;43;01mFalse\u001b[39;49;00m\u001b[43m,\u001b[49m\u001b[43m \u001b[49m\u001b[43mside\u001b[49m\u001b[38;5;241;43m=\u001b[39;49m\u001b[38;5;28;43;01mNone\u001b[39;49;00m\u001b[43m)\u001b[49m\n",
      "Cell \u001b[1;32mIn[125], line 6\u001b[0m, in \u001b[0;36mget_events\u001b[1;34m(close, tEvents, ptSl, target, min_return, num_threads, t1, side)\u001b[0m\n\u001b[0;32m      4\u001b[0m \u001b[38;5;28;01mif\u001b[39;00m \u001b[38;5;129;01mnot\u001b[39;00m t1:\n\u001b[0;32m      5\u001b[0m     t1 \u001b[38;5;241m=\u001b[39m pd\u001b[38;5;241m.\u001b[39mSeries(pd\u001b[38;5;241m.\u001b[39mNaT, index\u001b[38;5;241m=\u001b[39mtEvents) \u001b[38;5;66;03m# Not a Time\u001b[39;00m\n\u001b[1;32m----> 6\u001b[0m side_, ptSl_ \u001b[38;5;241m=\u001b[39m pd\u001b[38;5;241m.\u001b[39mSeries(\u001b[38;5;241m1.\u001b[39m, index\u001b[38;5;241m=\u001b[39mtarget\u001b[38;5;241m.\u001b[39mindex), [ptSl[\u001b[38;5;241m0\u001b[39m], ptSl[\u001b[38;5;241m0\u001b[39m]] \u001b[38;5;28;01mif\u001b[39;00m \u001b[38;5;129;01mnot\u001b[39;00m side \u001b[38;5;28;01melse\u001b[39;00m\\\n\u001b[0;32m      7\u001b[0m     side\u001b[38;5;241m.\u001b[39mloc[target\u001b[38;5;241m.\u001b[39mindex], ptSl[:\u001b[38;5;241m2\u001b[39m]\n\u001b[0;32m      8\u001b[0m events \u001b[38;5;241m=\u001b[39m pd\u001b[38;5;241m.\u001b[39mconcat({ \u001b[38;5;124m\"\u001b[39m\u001b[38;5;124mt1\u001b[39m\u001b[38;5;124m\"\u001b[39m: t1, \u001b[38;5;124m\"\u001b[39m\u001b[38;5;124mtarget\u001b[39m\u001b[38;5;124m\"\u001b[39m: target, \u001b[38;5;124m\"\u001b[39m\u001b[38;5;124mside\u001b[39m\u001b[38;5;124m\"\u001b[39m: side_ }, axis\u001b[38;5;241m=\u001b[39m\u001b[38;5;241m1\u001b[39m)\u001b[38;5;241m.\u001b[39mdropna(subset\u001b[38;5;241m=\u001b[39m[\u001b[38;5;124m\"\u001b[39m\u001b[38;5;124mtarget\u001b[39m\u001b[38;5;124m\"\u001b[39m])\n\u001b[0;32m      9\u001b[0m df0 \u001b[38;5;241m=\u001b[39m mp_pandas_job(func\u001b[38;5;241m=\u001b[39mapplyPtSlOnT1, pd_obj\u001b[38;5;241m=\u001b[39m(\u001b[38;5;124m'\u001b[39m\u001b[38;5;124mmolecule\u001b[39m\u001b[38;5;124m'\u001b[39m, events\u001b[38;5;241m.\u001b[39mindex), num_threads\u001b[38;5;241m=\u001b[39mnum_threads,\\\n\u001b[0;32m     10\u001b[0m                     close\u001b[38;5;241m=\u001b[39mclose, events\u001b[38;5;241m=\u001b[39mevents, ptSl\u001b[38;5;241m=\u001b[39mptSl_)\n",
      "\u001b[1;31mValueError\u001b[0m: too many values to unpack (expected 2)"
     ]
    }
   ],
   "source": [
    "get_events(df['Close'], tEvents, pt_sl, target, min_return, num_threads, t1=False, side=None)"
   ]
  },
  {
   "cell_type": "code",
   "execution_count": 10,
   "id": "3279e7dc-1dac-4804-9dcd-154b40f7b61b",
   "metadata": {
    "execution": {
     "iopub.execute_input": "2023-08-04T03:08:52.628769Z",
     "iopub.status.busy": "2023-08-04T03:08:52.628272Z",
     "iopub.status.idle": "2023-08-04T03:08:56.867247Z",
     "shell.execute_reply": "2023-08-04T03:08:56.866751Z",
     "shell.execute_reply.started": "2023-08-04T03:08:52.628769Z"
    }
   },
   "outputs": [
    {
     "name": "stdout",
     "output_type": "stream",
     "text": [
      "520 ms ± 28.8 ms per loop (mean ± std. dev. of 7 runs, 1 loop each)\n"
     ]
    }
   ],
   "source": [
    "%%timeit\n",
    "import multiprocessing as mp\n",
    "from job import job\n",
    "\n",
    "if __name__ == '__main__':\n",
    "    # Path dependency: Multi-threaded implementation\n",
    "    r, numThreads = np.random.normal(0, .01, size=(1000,10000)), 4\n",
    "    parts=np.linspace(0,r.shape[0],min(numThreads,r.shape[0])+1)\n",
    "    parts,jobs=np.ceil(parts).astype(int),[]\n",
    "    for i in range(1,len(parts)):\n",
    "        jobs.append(r[:,parts[i-1]:parts[i]]) # parallel jobs\n",
    "\n",
    "    with mp.Pool(processes=numThreads) as pool:\n",
    "        out = []\n",
    "        outputs=pool.imap_unordered(job, jobs)\n",
    "\n",
    "        for out_ in outputs:\n",
    "            out.append(out_) # asynchronous response\n"
   ]
  },
  {
   "cell_type": "code",
   "execution_count": null,
   "id": "afe56efb-c195-4d52-aa9c-bfd5c86067d6",
   "metadata": {},
   "outputs": [],
   "source": []
  }
 ],
 "metadata": {
  "kernelspec": {
   "display_name": "Python 3 (ipykernel)",
   "language": "python",
   "name": "python3"
  },
  "language_info": {
   "codemirror_mode": {
    "name": "ipython",
    "version": 3
   },
   "file_extension": ".py",
   "mimetype": "text/x-python",
   "name": "python",
   "nbconvert_exporter": "python",
   "pygments_lexer": "ipython3",
   "version": "3.8.10"
  }
 },
 "nbformat": 4,
 "nbformat_minor": 5
}
